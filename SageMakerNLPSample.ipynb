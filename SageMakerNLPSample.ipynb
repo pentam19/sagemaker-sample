{
 "cells": [
  {
   "cell_type": "code",
   "execution_count": null,
   "id": "2d4dfb22",
   "metadata": {},
   "outputs": [],
   "source": [
    "!pip install --upgrade pip\n",
    "!pip install mecab-python3"
   ]
  },
  {
   "cell_type": "code",
   "execution_count": null,
   "id": "26f89473",
   "metadata": {},
   "outputs": [],
   "source": [
    "import MeCab\n",
    "\n",
    "tagger = MeCab.Tagger('-d /usr/local/lib/mecab/dic/mecab-ipadic-neologd')\n",
    "input = 'MeCabは 京都大学情報学研究科−日本電信電話株式会社コミュニケーション科学基礎研究所 共同研究ユニットプロジェクトを通じて開発されたオープンソース 形態素解析エンジンです。'\n",
    "result = tagger.parse(input)\n",
    "print(result)"
   ]
  },
  {
   "cell_type": "code",
   "execution_count": null,
   "id": "2d16a7d5",
   "metadata": {},
   "outputs": [],
   "source": [
    "import sagemaker"
   ]
  },
  {
   "cell_type": "code",
   "execution_count": null,
   "id": "d8d2561a",
   "metadata": {},
   "outputs": [],
   "source": [
    "local_path = './'\n",
    "sagemaker.s3.S3Downloader.download(\n",
    "    s3_uri='s3://[your bucket name]/sample_text.json',\n",
    "    local_path=local_path\n",
    ")"
   ]
  },
  {
   "cell_type": "code",
   "execution_count": null,
   "id": "4e11261a",
   "metadata": {},
   "outputs": [],
   "source": [
    "import json\n",
    "\n",
    "words = []\n",
    "\n",
    "with open('sample_text.json') as ndjson_dict:\n",
    "    for line in ndjson_dict:\n",
    "        data = json.loads(line)\n",
    "        print(data['text'])\n",
    "        result = tagger.parse(data['text'])\n",
    "        print(result)\n",
    "        nouns = [line for line in result.splitlines() if \"名詞\" in line.split()[-1]]\n",
    "\n",
    "        for str in nouns:\n",
    "            #print(str.split()[0])\n",
    "            words.append(str.split()[0])"
   ]
  },
  {
   "cell_type": "code",
   "execution_count": null,
   "id": "65af21c4",
   "metadata": {},
   "outputs": [],
   "source": [
    "print(words)"
   ]
  },
  {
   "cell_type": "code",
   "execution_count": null,
   "id": "4633c63d",
   "metadata": {},
   "outputs": [],
   "source": [
    "import pandas as pd\n",
    "sr = pd.Series(words)\n",
    "sr.value_counts()"
   ]
  },
  {
   "cell_type": "code",
   "execution_count": null,
   "id": "f47dc7c3",
   "metadata": {},
   "outputs": [],
   "source": [
    "!pip install japanize-matplotlib\n",
    "\n",
    "import japanize_matplotlib"
   ]
  },
  {
   "cell_type": "code",
   "execution_count": null,
   "id": "ff6aa0a2",
   "metadata": {},
   "outputs": [],
   "source": [
    "sr.value_counts().plot.bar()"
   ]
  },
  {
   "cell_type": "code",
   "execution_count": null,
   "id": "fd80f12e",
   "metadata": {},
   "outputs": [],
   "source": [
    "# 単語のリストをデータフレームに変換する\n",
    "import pandas as pd\n",
    "words_df = pd.DataFrame({'word':words})"
   ]
  },
  {
   "cell_type": "code",
   "execution_count": null,
   "id": "fadf2b45",
   "metadata": {},
   "outputs": [],
   "source": [
    "words_df"
   ]
  },
  {
   "cell_type": "code",
   "execution_count": null,
   "id": "36f3c2ca",
   "metadata": {},
   "outputs": [],
   "source": [
    "!pip install awswrangler"
   ]
  },
  {
   "cell_type": "code",
   "execution_count": null,
   "id": "d3ff48be",
   "metadata": {},
   "outputs": [],
   "source": [
    "import awswrangler as wr\n",
    "import pandas as pd\n",
    "# SageMakerのノートブックインスタンスのIAMに、AWSGlueConsoleFullAccessポリシー必要\n",
    "# CREATE DATABASE  sample_sagemaker_db;でデータベースは事前に作っておく\n",
    "wr.s3.to_parquet(\n",
    "    df=words_df,\n",
    "    path=\"s3://[your bucket name]/dataset/\",\n",
    "    dataset=True,\n",
    "    database=\"sample_sagemaker_db\",\n",
    "    table=\"words_table\"\n",
    ")"
   ]
  },
  {
   "cell_type": "code",
   "execution_count": null,
   "id": "8e7b503a",
   "metadata": {},
   "outputs": [],
   "source": [
    "df = wr.athena.read_sql_query(\"SELECT word, count(*) AS cnt FROM words_table GROUP BY word\", database=\"sample_sagemaker_db\")"
   ]
  },
  {
   "cell_type": "code",
   "execution_count": null,
   "id": "ce60f220",
   "metadata": {},
   "outputs": [],
   "source": [
    "df.sort_values('cnt', ascending=False)"
   ]
  },
  {
   "cell_type": "code",
   "execution_count": null,
   "id": "ff8f7d1d",
   "metadata": {},
   "outputs": [],
   "source": [
    "import boto3\n",
    "import json\n",
    "\n",
    "# Comprehend constant\n",
    "REGION = 'us-west-2'\n",
    "# Function for detecting sentiment\n",
    "def detect_sentiment(text, language_code):\n",
    "    comprehend = boto3.client('comprehend', region_name=REGION)\n",
    "    response = comprehend.detect_sentiment(Text=text, LanguageCode=language_code)\n",
    "    return response"
   ]
  },
  {
   "cell_type": "code",
   "execution_count": null,
   "id": "daff919e",
   "metadata": {},
   "outputs": [],
   "source": [
    "# # SageMakerのノートブックインスタンスのIAMに、ComprehendFullAccess\n",
    "results = []\n",
    "with open('sample_text.json') as ndjson_dict:\n",
    "    for line in ndjson_dict:\n",
    "        data = json.loads(line)\n",
    "        print(data['text'])\n",
    "        result = detect_sentiment(data['text'], 'ja')\n",
    "        print(\"Starting detecting sentiment\")\n",
    "        print(json.dumps(result, sort_keys=True, indent=4))\n",
    "        results.append({\"text\": data['text'], \"sentiment\": result[\"Sentiment\"]})\n",
    "        print(\"End of detecting sentiment\\n\")"
   ]
  },
  {
   "cell_type": "code",
   "execution_count": null,
   "id": "aab91a3f",
   "metadata": {},
   "outputs": [],
   "source": [
    "results"
   ]
  },
  {
   "cell_type": "code",
   "execution_count": null,
   "id": "165827c1",
   "metadata": {},
   "outputs": [],
   "source": [
    "results_df = pd.DataFrame(results)\n",
    "results_df"
   ]
  },
  {
   "cell_type": "code",
   "execution_count": null,
   "id": "274b3b20",
   "metadata": {},
   "outputs": [],
   "source": [
    "sentiment_group = results_df.groupby(\"sentiment\") \n",
    "sentiment_group.size()"
   ]
  },
  {
   "cell_type": "code",
   "execution_count": null,
   "id": "f59facbd",
   "metadata": {},
   "outputs": [],
   "source": []
  }
 ],
 "metadata": {
  "kernelspec": {
   "display_name": "conda_python3",
   "language": "python",
   "name": "conda_python3"
  },
  "language_info": {
   "codemirror_mode": {
    "name": "ipython",
    "version": 3
   },
   "file_extension": ".py",
   "mimetype": "text/x-python",
   "name": "python",
   "nbconvert_exporter": "python",
   "pygments_lexer": "ipython3",
   "version": "3.6.13"
  }
 },
 "nbformat": 4,
 "nbformat_minor": 5
}
